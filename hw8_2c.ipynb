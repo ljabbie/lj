{
  "nbformat": 4,
  "nbformat_minor": 0,
  "metadata": {
    "colab": {
      "name": " hw8_2c",
      "provenance": [],
      "authorship_tag": "ABX9TyOkTdtg7jt2R8FSzxZZGco9",
      "include_colab_link": true
    },
    "kernelspec": {
      "name": "python3",
      "display_name": "Python 3"
    },
    "language_info": {
      "name": "python"
    }
  },
  "cells": [
    {
      "cell_type": "markdown",
      "metadata": {
        "id": "view-in-github",
        "colab_type": "text"
      },
      "source": [
        "<a href=\"https://colab.research.google.com/github/ljabbie/lj/blob/main/hw8_2c.ipynb\" target=\"_parent\"><img src=\"https://colab.research.google.com/assets/colab-badge.svg\" alt=\"Open In Colab\"/></a>"
      ]
    },
    {
      "cell_type": "code",
      "metadata": {
        "id": "M7XEueHY_LAD"
      },
      "source": [
        "import numpy as np\n",
        "from scipy.integrate import odeint\n",
        "import copy\n",
        "from matplotlib import pyplot as plt\n",
        "plt.rcParams.update({'font.size': 22})"
      ],
      "execution_count": 7,
      "outputs": []
    },
    {
      "cell_type": "markdown",
      "metadata": {
        "id": "wvEg1qpaPk-e"
      },
      "source": [
        "##2C.\n",
        "Effect of changing T on a(z) & X(z) plots?"
      ]
    },
    {
      "cell_type": "code",
      "metadata": {
        "id": "HlDLlcVKRfIJ"
      },
      "source": [
        "def coupled_odes_2(X, Z):\n",
        "\n",
        "  density_cat = 50  # kg-cat/m^3\n",
        "  k_b = 0.003344 # Replacing k_prime with k_b kmol/kg-cat*s*atm^2\n",
        "  PA0 = 12 # atm\n",
        "  CA0 = 0.22 # kmol/m^3\n",
        "  U0 = 2.5 # m/s\n",
        "  \n",
        "  ddZ = np.zeros(1, dtype=float) # initialize an empty array\n",
        "  ddZ = ((density_cat)*(1/(1+12*((Z/(2.5+(5*X)))**.5)))*k_b*((PA0*(1-X)/(1+(2*X)))**2))/U0*CA0\n",
        "  \n",
        "  \n",
        "  return ddZ"
      ],
      "execution_count": 2,
      "outputs": []
    },
    {
      "cell_type": "code",
      "metadata": {
        "id": "DBe92OOegltW"
      },
      "source": [
        "Z = np.arange(0.,20.,.2)\n",
        "\n",
        "XA0 = 0.0  #Initial conversion\n",
        "\n",
        "sol_2 = odeint(coupled_odes_2, XA0, Z)    # solve the ODE\n",
        "a = (1/(1+12*((Z/(2.5+(5*sol_2[:,0])))**.5)))  # solve for a"
      ],
      "execution_count": 3,
      "outputs": []
    },
    {
      "cell_type": "code",
      "metadata": {
        "colab": {
          "base_uri": "https://localhost:8080/",
          "height": 0
        },
        "id": "-Gl88xJAGO2b",
        "outputId": "c3764ccf-4944-4a08-a325-272d11a94ec8"
      },
      "source": [
        "print(sol_2[:,0])\n",
        "print(a)\n"
      ],
      "execution_count": 4,
      "outputs": [
        {
          "output_type": "stream",
          "name": "stdout",
          "text": [
            "[0.         0.10579386 0.1495867  0.17929636 0.20204929 0.22057483\n",
            " 0.23623591 0.2498185  0.26181975 0.2725752  0.28232254 0.29123658\n",
            " 0.29944983 0.30706515 0.31416412 0.32081252 0.32706423 0.33296392\n",
            " 0.33854904 0.34385135 0.34889801 0.35371238 0.35831478 0.36272294\n",
            " 0.36695245 0.37101708 0.37492908 0.37869935 0.38233768 0.38585287\n",
            " 0.38925286 0.39254485 0.39573538 0.39883041 0.4018354  0.40475535\n",
            " 0.40759484 0.4103581  0.41304905 0.41567128 0.41822815 0.42072276\n",
            " 0.42315801 0.4255366  0.42786103 0.43013366 0.43235669 0.43453219\n",
            " 0.4366621  0.43874822 0.4407923  0.44279592 0.44476064 0.44668787\n",
            " 0.448579   0.4504353  0.452258   0.45404826 0.45580718 0.45753579\n",
            " 0.45923511 0.46090607 0.46254958 0.46416648 0.46575761 0.46732375\n",
            " 0.46886563 0.47038398 0.47187949 0.47335279 0.47480453 0.4762353\n",
            " 0.47764567 0.47903621 0.48040744 0.48175987 0.48309398 0.48441026\n",
            " 0.48570916 0.4869911  0.48825652 0.48950581 0.49073937 0.49195757\n",
            " 0.49316077 0.49434933 0.49552359 0.49668386 0.49783047 0.49896373\n",
            " 0.50008392 0.50119133 0.50228625 0.50336893 0.50443963 0.50549862\n",
            " 0.50654612 0.50758238 0.50860762 0.50962207]\n",
            "[1.         0.2448859  0.19189374 0.16546379 0.14861672 0.13657411\n",
            " 0.12736606 0.12000468 0.11392996 0.10879647 0.10437745 0.1005168\n",
            " 0.09710286 0.0940533  0.09130582 0.08881227 0.08653473 0.08444284\n",
            " 0.082512   0.08072198 0.07905598 0.07749993 0.0760419  0.07467175\n",
            " 0.07338074 0.07216133 0.07100697 0.0699119  0.06887109 0.06788008\n",
            " 0.06693491 0.06603207 0.06516839 0.06434106 0.06354753 0.06278549\n",
            " 0.06205287 0.06134777 0.06066845 0.06001336 0.05938104 0.05877017\n",
            " 0.05817954 0.05760802 0.05705457 0.05651825 0.05599816 0.05549348\n",
            " 0.05500344 0.05452733 0.0540645  0.05361431 0.05317618 0.05274958\n",
            " 0.052334   0.05192895 0.051534   0.05114871 0.05077269 0.05040556\n",
            " 0.05004697 0.04969659 0.0493541  0.0490192  0.04869161 0.04837106\n",
            " 0.0480573  0.04775008 0.04744918 0.04715437 0.04686544 0.04658221\n",
            " 0.04630448 0.04603207 0.04576481 0.04550253 0.04524508 0.04499231\n",
            " 0.04474408 0.04450025 0.04426068 0.04402525 0.04379384 0.04356634\n",
            " 0.04334264 0.04312261 0.04290618 0.04269323 0.04248367 0.04227741\n",
            " 0.04207436 0.04187444 0.04167757 0.04148367 0.04129265 0.04110446\n",
            " 0.04091902 0.04073626 0.04055612 0.04037853]\n"
          ]
        }
      ]
    },
    {
      "cell_type": "code",
      "metadata": {
        "colab": {
          "base_uri": "https://localhost:8080/",
          "height": 295
        },
        "id": "2Y-Wg4DXO5ZY",
        "outputId": "e589271d-677c-47a6-cf37-ddd0e1a02765"
      },
      "source": [
        "plt.plot(Z, sol_2[:,0], '-', color = \"blue\", linewidth = 3, label= \"X\")\n",
        "plt.plot(Z, a, '-',  color=\"red\", linewidth = 3, label=\"a\")\n",
        "plt.legend(loc='upper center', bbox_to_anchor=(1.3, 1.05))\n",
        "plt.title(\"Plot of X & a as Function of Height (Z)\")\n",
        "plt.xlabel(\"Z [m]\")\n",
        "plt.ylabel(\"X & a [Unitless]\")\n",
        "plt.ylim([0,1])\n",
        "plt.grid()\n",
        "plt.show()"
      ],
      "execution_count": 6,
      "outputs": [
        {
          "output_type": "display_data",
          "data": {
            "image/png": "[encoded data removed]",
            "text/plain": [
              "<Figure size 432x288 with 1 Axes>"
            ]
          },
          "metadata": {
            "needs_background": "light"
          }
        }
      ]
    }
  ]
}