{
  "nbformat": 4,
  "nbformat_minor": 0,
  "metadata": {
    "colab": {
      "name": "Prob3c and 4 .ipynb",
      "provenance": [],
      "authorship_tag": "ABX9TyPOitkFGDxgvH/yg8+RFI6x",
      "include_colab_link": true
    },
    "kernelspec": {
      "name": "python3",
      "display_name": "Python 3"
    },
    "language_info": {
      "name": "python"
    }
  },
  "cells": [
    {
      "cell_type": "markdown",
      "metadata": {
        "id": "view-in-github",
        "colab_type": "text"
      },
      "source": [
        "<a href=\"https://colab.research.google.com/github/ljabbie/lj/blob/main/Prob3c_and_4_.ipynb\" target=\"_parent\"><img src=\"https://colab.research.google.com/assets/colab-badge.svg\" alt=\"Open In Colab\"/></a>"
      ]
    },
    {
      "cell_type": "markdown",
      "metadata": {
        "id": "y9f9Q_adK6x2"
      },
      "source": [
        "##3c."
      ]
    },
    {
      "cell_type": "markdown",
      "metadata": {
        "id": "SzTmbTNF1kgl"
      },
      "source": [
        "Creating a plot of catalyst weight as a function of ΘB (ranging from 2 to 20) for a constant \n",
        "conversion of 90%"
      ]
    },
    {
      "cell_type": "code",
      "metadata": {
        "id": "ClSWoldQ5k8y"
      },
      "source": [
        "import numpy as np   #Importing a library\n",
        "from scipy.integrate import odeint\n",
        "import copy\n",
        "from matplotlib import pyplot as plt\n",
        "plt.rcParams.update({'font.size': 22})"
      ],
      "execution_count": 139,
      "outputs": []
    },
    {
      "cell_type": "code",
      "metadata": {
        "id": "__KQyy-fDrfy"
      },
      "source": [
        "def coupled_odes(Z, theta):\n",
        "  \n",
        "    nu0 = 10    # volumetric flow rate m^3/h\n",
        "    alpha = 0.146 # alpha parameter 1/kg\n",
        "    CA0 = 200     # initial concentration mol/m^3 \n",
        "    k = .130      # m^6/kg*mol*hr\n",
        "    p = copy.copy(Z[0])\n",
        "    w = copy.copy(Z[1])\n",
        "  \n",
        "    ddW = np.zeros(2, dtype=float) # initialize an empty array\n",
        "    ddW[0] = -alpha/(2.*p)         # define dp/dW\n",
        "    ddW[1] = (k * CA0 * (1.-.9)*(1-alpha*w)**.5*(theta-.9)*(1-alpha*w)**.5 )/ nu0 # define dX/dW\n",
        "  \n",
        "    return ddW"
      ],
      "execution_count": 133,
      "outputs": []
    },
    {
      "cell_type": "code",
      "metadata": {
        "colab": {
          "base_uri": "https://localhost:8080/"
        },
        "id": "h03t6kYw_Lcc",
        "outputId": "9db257a2-c8a1-4809-ff19-f5cef52b6b2d"
      },
      "source": [
        "theta = np.arange(2.,20.,1.0)\n",
        "\n",
        "p0 = 1.0     # initial value for p = P/P0\n",
        "theta0 = 2.0     # initial value of conversion\n",
        "init_values = np.array([p0, theta0],dtype=float)  # combine initial values into an array\n",
        "\n",
        "sol = odeint(coupled_odes, init_values,theta)    # solve the system of coupled ODEs over the entire array of W values\n",
        "print(sol)"
      ],
      "execution_count": 134,
      "outputs": [
        {
          "output_type": "stream",
          "name": "stdout",
          "text": [
            "[[1.00000000e+00 2.00000000e+00]\n",
            " [9.24121203e-01 2.28576220e+00]\n",
            " [8.41427354e-01 2.71465358e+00]\n",
            " [7.49666536e-01 3.24277291e+00]\n",
            " [6.44980480e-01 3.82061511e+00]\n",
            " [5.19614963e-01 4.40061458e+00]\n",
            " [3.52135743e-01 4.94328711e+00]\n",
            " [2.38242910e-09 5.35386414e+00]\n",
            " [2.08125000e+02 5.12000000e+01]\n",
            " [2.26725000e+02 5.12000000e+01]\n",
            " [2.45325000e+02 5.12000000e+01]\n",
            " [2.63925000e+02 5.12000000e+01]\n",
            " [2.82525000e+02 5.12000000e+01]\n",
            " [3.01125000e+02 5.12000000e+01]\n",
            " [3.19725000e+02 5.12000000e+01]\n",
            " [3.38325000e+02 5.12000000e+01]\n",
            " [3.56925000e+02 5.12000000e+01]\n",
            " [3.75525000e+02 5.12000000e+01]]\n"
          ]
        },
        {
          "output_type": "stream",
          "name": "stderr",
          "text": [
            "/usr/local/lib/python3.7/dist-packages/scipy/integrate/odepack.py:248: ODEintWarning: Excess work done on this call (perhaps wrong Dfun type). Run with full_output = 1 to get quantitative information.\n",
            "  warnings.warn(warning_msg, ODEintWarning)\n"
          ]
        }
      ]
    },
    {
      "cell_type": "markdown",
      "metadata": {
        "id": "ohOTczc92f7H"
      },
      "source": [
        "##Plotting"
      ]
    },
    {
      "cell_type": "code",
      "metadata": {
        "colab": {
          "base_uri": "https://localhost:8080/",
          "height": 310
        },
        "id": "usS7fzaCCotY",
        "outputId": "647cb2b0-9cce-44bd-a38e-5603360f79e6"
      },
      "source": [
        "plt.plot(theta, sol[:,1], '-g', linewidth = 3, label= \"W(theta)\")\n",
        "plt.legend(fontsize=10)\n",
        "plt.title('Plot of catalyst weight vs. Θ',fontsize=15)\n",
        "plt.xlabel(\"theta [unitless]\", fontsize=12)\n",
        "plt.ylabel(r\"w [kg]\",fontsize=12)\n",
        "plt.xlim([2,20])\n",
        "plt.ylim([0,75])\n",
        "plt.show()"
      ],
      "execution_count": 135,
      "outputs": [
        {
          "output_type": "display_data",
          "data": {
            "image/png": "[encoded data removed]",
            "text/plain": [
              "<Figure size 432x288 with 1 Axes>"
            ]
          },
          "metadata": {
            "needs_background": "light"
          }
        }
      ]
    },
    {
      "cell_type": "markdown",
      "metadata": {
        "id": "vbwgj_aPPbWq"
      },
      "source": [
        "##Problem 4."
      ]
    },
    {
      "cell_type": "markdown",
      "metadata": {
        "id": "9Z4_x4qSUwXr"
      },
      "source": [
        "#A."
      ]
    },
    {
      "cell_type": "markdown",
      "metadata": {
        "id": "L44IgIVrXG80"
      },
      "source": [
        "**Goal**: \n",
        "i) Plot the experimental data \n",
        "along with analytical curves for X vs. Da for a varying number of reactors (between 1 and 10).\n",
        "ii) Which number of reactors best matches the experimental data?"
      ]
    },
    {
      "cell_type": "markdown",
      "metadata": {
        "id": "hiWBExHoYmqw"
      },
      "source": [
        "**Assumption**: 1st rxn."
      ]
    },
    {
      "cell_type": "markdown",
      "metadata": {
        "id": "Z2FNHhqzPpJq"
      },
      "source": [
        "**Given**: A ==> B is a liquid-phase, irreversible chemical reaction in series CSTRS"
      ]
    },
    {
      "cell_type": "markdown",
      "metadata": {
        "id": "xP_E1fS8Tpdd"
      },
      "source": [
        "Given data and conversion equations for different ns."
      ]
    },
    {
      "cell_type": "code",
      "metadata": {
        "id": "IYqlysM-TolC",
        "colab": {
          "base_uri": "https://localhost:8080/"
        },
        "outputId": "4a7653a2-0b4f-4227-87ab-9d8c6c8f88f9"
      },
      "source": [
        "Da=np.array([0, 0.2, 0.4, 0.6, 0.8, 1, 1.2, 1.4, 1.6, 1.8, 2])  #Damköhler number\n",
        "X_4 = [0, 0.518, 0.740, 0.847, 0.905, 0.938, 0.957, 0.970, 0.978, 0.984, 0.988]\n",
        "XDA1 =np.array(1-(1./((1+Da)**1)))\n",
        "XDA2 =np.array(1-(1./((1+Da)**2)))\n",
        "XDA3 =np.array(1-(1./((1+Da)**3)))\n",
        "XDA4 =np.array(1-(1./((1+Da)**4)))\n",
        "XDA5 =np.array(1-(1./((1+Da)**5)))\n",
        "XDA6 =np.array(1-(1./((1+Da)**6)))\n",
        "XDA7 =np.array(1-(1./((1+Da)**7)))\n",
        "XDA8 =np.array(1-(1./((1+Da)**8)))\n",
        "XDA9 =np.array(1-(1./((1+Da)**9)))\n",
        "XDA10 =np.array(1-(1./((1+Da)**10)))\n",
        "\n",
        "print(XDA5-X_4)             # Verifying n that matches data.       \n",
        "print(XDA3-X_4)\n"
      ],
      "execution_count": 140,
      "outputs": [
        {
          "output_type": "stream",
          "name": "stdout",
          "text": [
            "[0.         0.08012243 0.07406557 0.05763257 0.04207785 0.03075\n",
            " 0.02359621 0.01744133 0.01358347 0.01018955 0.00788477]\n",
            "[ 0.         -0.0967037  -0.10443149 -0.09114062 -0.07646776 -0.063\n",
            " -0.05091435 -0.04233796 -0.03489577 -0.02955394 -0.02503704]\n"
          ]
        }
      ]
    },
    {
      "cell_type": "markdown",
      "metadata": {
        "id": "gABMwSwM78IP"
      },
      "source": [
        "__Plotting__"
      ]
    },
    {
      "cell_type": "code",
      "metadata": {
        "colab": {
          "base_uri": "https://localhost:8080/",
          "height": 324
        },
        "id": "spo_0ztSgVMT",
        "outputId": "88fa14c1-3340-4e98-e780-dce8bca2dc76"
      },
      "source": [
        "plt.plot(Da, X_4, color='purple', linewidth = 5, label='Experimental')\n",
        "plt.plot(Da, XDA1, color='blue', label='n1')\n",
        "plt.plot(Da, XDA2, color='pink', label='n2')\n",
        "plt.plot(Da, XDA3, color='red', label='n3')\n",
        "plt.plot(Da, XDA4, color='black', label='n4')\n",
        "plt.plot(Da, XDA5, color='brown', label='n5')\n",
        "plt.plot(Da, XDA6, color='green', label='n6')\n",
        "plt.plot(Da, XDA7, color='grey', label='n7')\n",
        "plt.plot(Da, XDA8, color='yellow', label='n8')\n",
        "plt.plot(Da, XDA9, color='silver', label='n9')\n",
        "plt.plot(Da, XDA10, color='orange', label='n10')\n",
        "\n",
        "# Formatting\n",
        "plt.title(\"Data along with analytical curves for X vs. Da\", fontsize=15)  \n",
        "plt.ylabel(\"Conversion, X [Unitless]\", fontsize=10)\n",
        "plt.xlabel(\"Da [Unitless]\", fontsize=10)\n",
        "\n",
        "plt.legend(fontsize=10) \n"
      ],
      "execution_count": 141,
      "outputs": [
        {
          "output_type": "execute_result",
          "data": {
            "text/plain": [
              "<matplotlib.legend.Legend at 0x7f8434401b90>"
            ]
          },
          "metadata": {},
          "execution_count": 141
        },
        {
          "output_type": "display_data",
          "data": {
            "image/png": "[encoded data removed]",
            "text/plain": [
              "<Figure size 432x288 with 1 Axes>"
            ]
          },
          "metadata": {
            "needs_background": "light"
          }
        }
      ]
    },
    {
      "cell_type": "markdown",
      "metadata": {
        "id": "9qiVOsZNB7Q4"
      },
      "source": [
        "Looking at the plot and the verification code line above, the number of reactors that matches the experimental data is **5**"
      ]
    },
    {
      "cell_type": "markdown",
      "metadata": {
        "id": "5s-rBoZECpj9"
      },
      "source": [
        "#B"
      ]
    },
    {
      "cell_type": "markdown",
      "metadata": {
        "id": "7gG2Z6snC1pH"
      },
      "source": [
        "The conversion achieved using 5 reactors."
      ]
    },
    {
      "cell_type": "code",
      "metadata": {
        "id": "QxCdov4MC_zn",
        "colab": {
          "base_uri": "https://localhost:8080/"
        },
        "outputId": "c581fd2a-3c4b-4069-ea52-490a8e0fea91"
      },
      "source": [
        "k = 0.00398 # [hr^-1] At T = 450\n",
        "Ea= 7     #kcal/mol\n",
        "V = 4500   #L (vol.of each CSRT)\n",
        "C_A0 = 1.8   # mol/L\n",
        "Vo = 20   #L/hr\n",
        "T = 450   # K\n",
        "Tau = V/Vo\n",
        "X_achieved = (1-(1/((1+Tau*k)**5)))\n",
        "\n",
        "print(X_achieved)"
      ],
      "execution_count": 143,
      "outputs": [
        {
          "output_type": "stream",
          "name": "stdout",
          "text": [
            "0.9591322191180294\n"
          ]
        }
      ]
    },
    {
      "cell_type": "markdown",
      "metadata": {
        "id": "a2nxLFkH3cra"
      },
      "source": [
        "Therefore, **X_achieved = 0.959**"
      ]
    }
  ]
}