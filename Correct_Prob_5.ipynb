{
  "nbformat": 4,
  "nbformat_minor": 0,
  "metadata": {
    "colab": {
      "name": "Correct Prob. 5",
      "provenance": [],
      "authorship_tag": "ABX9TyPd/pY/OOFmsFk1xONgYDl7",
      "include_colab_link": true
    },
    "kernelspec": {
      "name": "python3",
      "display_name": "Python 3"
    },
    "language_info": {
      "name": "python"
    }
  },
  "cells": [
    {
      "cell_type": "markdown",
      "metadata": {
        "id": "view-in-github",
        "colab_type": "text"
      },
      "source": [
        "<a href=\"https://colab.research.google.com/github/ljabbie/lj/blob/main/Correct_Prob_5.ipynb\" target=\"_parent\"><img src=\"https://colab.research.google.com/assets/colab-badge.svg\" alt=\"Open In Colab\"/></a>"
      ]
    },
    {
      "cell_type": "markdown",
      "metadata": {
        "id": "TiulS_At6E28"
      },
      "source": [
        "# A linear Arrhenius plot showing both data sets"
      ]
    },
    {
      "cell_type": "markdown",
      "metadata": {
        "id": "s82vl_dOuFNh"
      },
      "source": [
        "## Loading the given data. "
      ]
    },
    {
      "cell_type": "code",
      "metadata": {
        "id": "G0kak9hy7I6D",
        "colab": {
          "base_uri": "https://localhost:8080/"
        },
        "outputId": "dbe330c5-d341-4fb8-c5b8-5020a0cb803b"
      },
      "source": [
        "import numpy as np  # must import the package before using it!\n",
        "\n",
        "data_set_1 = open('k1_T.txt','r')   \n",
        "T_1 = []\n",
        "rates = []\n",
        "\n",
        "for line in data_set_1.readlines():\n",
        "\n",
        "  T = float(line.split()[0])\n",
        "  k = float(line.split()[1])\n",
        "  T_1.append(T)\n",
        "  rates.append(k)\n",
        "\n",
        "print(T_1)\n",
        "print(rates)"
      ],
      "execution_count": 14,
      "outputs": [
        {
          "output_type": "stream",
          "name": "stdout",
          "text": [
            "[100.0, 250.0, 400.0, 550.0, 700.0, 850.0, 1000.0]\n",
            "[2.930879357728328e-44, 4.925540930021455e-18, 1.773445839684948e-11, 1.6942729738445078e-08, 8.549388859380015e-07, 1.0810480219898094e-05, 6.385309128437494e-05]\n"
          ]
        }
      ]
    },
    {
      "cell_type": "code",
      "metadata": {
        "colab": {
          "base_uri": "https://localhost:8080/"
        },
        "id": "7Oku5x0Vz9gf",
        "outputId": "93bbaa6b-a9f9-4058-c6f8-e4a7ad46c385"
      },
      "source": [
        "data_set_2 = open('k2_T.txt','r')   \n",
        "T_2 = []\n",
        "rates_2 = []\n",
        "\n",
        "for line in data_set_2.readlines():\n",
        "\n",
        "  T = float(line.split()[0])\n",
        "  k = float(line.split()[1])\n",
        "  T_2.append(T)\n",
        "  rates_2.append(k)\n",
        "\n",
        "print(T_2)\n",
        "print(rates_2)"
      ],
      "execution_count": 15,
      "outputs": [
        {
          "output_type": "stream",
          "name": "stdout",
          "text": [
            "[100.0, 250.0, 400.0, 550.0, 700.0, 850.0, 1000.0]\n",
            "[2.015539311862066e-49, 6.42731022123687e-20, 1.5273506685548643e-12, 3.4405263984480384e-09, 2.834298213737068e-07, 4.921462701779039e-06, 3.6295121667335295e-05]\n"
          ]
        }
      ]
    },
    {
      "cell_type": "code",
      "metadata": {
        "id": "H_hjq5kP8Dqj",
        "colab": {
          "base_uri": "https://localhost:8080/"
        },
        "outputId": "836f5300-98c2-4991-b26f-f4dd610ca917"
      },
      "source": [
        "from google.colab import drive\n",
        "drive.mount('/content/drive')"
      ],
      "execution_count": 16,
      "outputs": [
        {
          "output_type": "stream",
          "name": "stdout",
          "text": [
            "Drive already mounted at /content/drive; to attempt to forcibly remount, call drive.mount(\"/content/drive\", force_remount=True).\n"
          ]
        }
      ]
    },
    {
      "cell_type": "markdown",
      "metadata": {
        "id": "Q-YvH8M5vkOD"
      },
      "source": [
        "##Plotting "
      ]
    },
    {
      "cell_type": "code",
      "metadata": {
        "id": "psehKS1n3MtJ"
      },
      "source": [
        "import numpy as np \n",
        "temp_1=np.array(T_1)\n",
        "temp_2=np.array(T_2)"
      ],
      "execution_count": 17,
      "outputs": []
    },
    {
      "cell_type": "code",
      "metadata": {
        "id": "8LsITHfURXfE"
      },
      "source": [
        "import matplotlib.pyplot as plt"
      ],
      "execution_count": 18,
      "outputs": []
    },
    {
      "cell_type": "code",
      "metadata": {
        "colab": {
          "base_uri": "https://localhost:8080/",
          "height": 312
        },
        "id": "xOyMgCXK4aPY",
        "outputId": "cf991991-a74a-46a3-8d72-ced27dad38f5"
      },
      "source": [
        "plt.scatter(1000 / temp_1, np.log(rates), color='black') \n",
        "plt.scatter(1000 / temp_2, np.log(rates_2), color='red')  \n",
        "\n",
        "plt.plot(1000 / temp_1, np.log(rates), color='black',label='catalyst_1') \n",
        "plt.plot(1000 / temp_2, np.log(rates_2), color='red',label='catalyst_2')\n",
        "\n",
        "# Formatting\n",
        "plt.title(\"Linear Arrhenius Plot\")\n",
        "plt.ylabel(\"ln(k) [ln(1/s)]\")\n",
        "plt.xlabel(\"1000/T (1/K)\")\n",
        "plt.legend()"
      ],
      "execution_count": 19,
      "outputs": [
        {
          "output_type": "execute_result",
          "data": {
            "text/plain": [
              "<matplotlib.legend.Legend at 0x7fceb8ad3f50>"
            ]
          },
          "metadata": {},
          "execution_count": 19
        },
        {
          "output_type": "display_data",
          "data": {
            "image/png": "[encoded data removed]",
            "text/plain": [
              "<Figure size 432x288 with 1 Axes>"
            ]
          },
          "metadata": {
            "needs_background": "light"
          }
        }
      ]
    },
    {
      "cell_type": "markdown",
      "metadata": {
        "id": "TLX_mR6Op8lK"
      },
      "source": [
        "##5b"
      ]
    },
    {
      "cell_type": "markdown",
      "metadata": {
        "id": "uws-7LEMqH_f"
      },
      "source": [
        "Using the linearized Arrhenius equation\n",
        "ln(k)=ln(A)−Ea/kBT \n",
        "where\n",
        "y= ln(k), x=1/T, slope=−Ea/R, and intercept=ln(A).\n"
      ]
    },
    {
      "cell_type": "markdown",
      "metadata": {
        "id": "fLCx_aqFv7sW"
      },
      "source": [
        "**_Data set 1 (catalyst_1)_**"
      ]
    },
    {
      "cell_type": "code",
      "metadata": {
        "colab": {
          "base_uri": "https://localhost:8080/"
        },
        "id": "gwx2O7JOs0_t",
        "outputId": "f96c7640-b488-4320-808d-a3782054f0aa"
      },
      "source": [
        "from scipy.stats import linregress  \n",
        "\n",
        "x1 = 1000. / temp_1\n",
        "y1 = np.log(rates)\n",
        "\n",
        "slope, intercept, r_value, p_value, std_err = linregress(x1, y1)  # spits out multiple values\n",
        "print(slope)\n",
        "print(intercept)"
      ],
      "execution_count": 20,
      "outputs": [
        {
          "output_type": "stream",
          "name": "stdout",
          "text": [
            "-10.064390669975328\n",
            "0.40546510810816727\n"
          ]
        }
      ]
    },
    {
      "cell_type": "code",
      "metadata": {
        "colab": {
          "base_uri": "https://localhost:8080/"
        },
        "id": "bWy7PC-Fw4I9",
        "outputId": "a70df62a-978e-4d36-836c-c71ecf7568c2"
      },
      "source": [
        "R = 0.001987 # kcal/mol/K, Gas constant\n",
        "Ea_1= -R*slope  # kcal/mol, Activation energy\n",
        "A_1 = 10**intercept # 1/s, Pre-exponential factor\n",
        "print(Ea_1)\n",
        "print(A_1)"
      ],
      "execution_count": 21,
      "outputs": [
        {
          "output_type": "stream",
          "name": "stdout",
          "text": [
            "0.019997944261240977\n",
            "2.54369542048729\n"
          ]
        }
      ]
    },
    {
      "cell_type": "markdown",
      "metadata": {
        "id": "_6sN6z0DyQGl"
      },
      "source": [
        "Thus, Activation energy (Ea_1, in kcal/mol), **Ea_1 = 0.0200 kcal/mol** and Pre-exponential (1/s), **A_1 = 2.54 s^-1**"
      ]
    },
    {
      "cell_type": "markdown",
      "metadata": {
        "id": "KgMJqpG4zEkh"
      },
      "source": [
        "**_Data set 2 (Catalyst_2)_**"
      ]
    },
    {
      "cell_type": "code",
      "metadata": {
        "colab": {
          "base_uri": "https://localhost:8080/"
        },
        "id": "hQAqO7M2zREi",
        "outputId": "dfdec392-05d8-4d1a-8ee8-30fbd4053d6f"
      },
      "source": [
        "x2 = 1000. / temp_2\n",
        "y2 = np.log(rates_2)\n",
        "\n",
        "slope, intercept, r_value, p_value, std_err = linregress(x2, y2)  \n",
        "print(slope)\n",
        "print(intercept)"
      ],
      "execution_count": 22,
      "outputs": [
        {
          "output_type": "stream",
          "name": "stdout",
          "text": [
            "-11.322439503722238\n",
            "1.098612288668086\n"
          ]
        }
      ]
    },
    {
      "cell_type": "code",
      "metadata": {
        "colab": {
          "base_uri": "https://localhost:8080/"
        },
        "id": "z1eU5jfq1yHo",
        "outputId": "c7164e04-de50-4067-f6db-ed74a2620c71"
      },
      "source": [
        "Ea_2= -R*slope\n",
        "A_2= 10**intercept\n",
        "print(Ea_2)\n",
        "print(A_2)"
      ],
      "execution_count": 23,
      "outputs": [
        {
          "output_type": "stream",
          "name": "stdout",
          "text": [
            "0.022497687293896087\n",
            "12.549091579661313\n"
          ]
        }
      ]
    },
    {
      "cell_type": "markdown",
      "metadata": {
        "id": "xUDsxqrX2MbG"
      },
      "source": [
        "Activation energy (Ea_1, in kcal/mol), **Ea_2 = 0.0225 kcal/mol**  and Pre-exponential factor, **A_2 = 12.5 s^-1**"
      ]
    },
    {
      "cell_type": "markdown",
      "metadata": {
        "id": "AAkZRxLp6upc"
      },
      "source": [
        "##5c"
      ]
    },
    {
      "cell_type": "markdown",
      "metadata": {
        "id": "raC7gKWGhoqu"
      },
      "source": [
        "I would recommend the first catalyst because it has slightly lower activation energy. Molecules have lower energy barrier to overcome. Hence, its reaction constant will be large at a given temperature compared to the second catalyst according to Arrhenius's equation. Large constant, indicates faster reaction rate so using the first catalyst would make the reation faster. The plot in part (5a) also shows this trend. The k of the first catalyst is higher than that of the second at all temperatures, especially at low temperature values."
      ]
    },
    {
      "cell_type": "markdown",
      "metadata": {
        "id": "vCPwlOdjmXwS"
      },
      "source": [
        "##5d"
      ]
    },
    {
      "cell_type": "markdown",
      "metadata": {
        "id": "xX0fBiS_meqH"
      },
      "source": [
        "The values are most similar at higher temperatures. This is because molecules gain enough enery at high temperature values which leads to high collision and hence fast rate of reaction. Catalyst perform better at optimal temperatures and their impact deplede at high temperatures."
      ]
    }
  ]
}