{
  "nbformat": 4,
  "nbformat_minor": 0,
  "metadata": {
    "colab": {
      "name": "Untitled9.ipynb",
      "provenance": [],
      "authorship_tag": "ABX9TyMSoOysdsvHgc4tOWyHyMeY",
      "include_colab_link": true
    },
    "kernelspec": {
      "name": "python3",
      "display_name": "Python 3"
    },
    "language_info": {
      "name": "python"
    }
  },
  "cells": [
    {
      "cell_type": "markdown",
      "metadata": {
        "id": "view-in-github",
        "colab_type": "text"
      },
      "source": [
        "<a href=\"https://colab.research.google.com/github/ljabbie/lj/blob/main/Untitled9.ipynb\" target=\"_parent\"><img src=\"https://colab.research.google.com/assets/colab-badge.svg\" alt=\"Open In Colab\"/></a>"
      ]
    },
    {
      "cell_type": "code",
      "execution_count": 16,
      "metadata": {
        "id": "quGOb_0Svv24"
      },
      "outputs": [],
      "source": [
        "\n",
        "import numpy as np\n",
        "from scipy.integrate import odeint\n",
        "import scipy\n",
        "import matplotlib\n",
        "import copy\n",
        "from matplotlib import pyplot as plt"
      ]
    },
    {
      "cell_type": "markdown",
      "source": [
        "##1.\n",
        "\n",
        "C & D"
      ],
      "metadata": {
        "id": "KDW_WAWgv0Rr"
      }
    },
    {
      "cell_type": "code",
      "source": [
        "R = 1.987                       # ideal gas constant - cal/mol/K                   \n",
        "T0 = 300.                       # initial temperature of reactants in K\n",
        "Hr = -30000.                    #cal/molA  \n",
        "CpA = 25.                       #cal/molK\n",
        "CpB = 25.                       \n",
        "CpC = 25.\n",
        "CpD = 25.\n",
        "thetaB = 1 "
      ],
      "metadata": {
        "id": "v5GlqXLBecWX"
      },
      "execution_count": 19,
      "outputs": []
    },
    {
      "cell_type": "code",
      "source": [
        "def Kc(T):\n",
        "    Kc_T = 500000 * np.exp(Hr/R * (1/298 - 1/T))\n",
        "    return Kc_T\n",
        "\n",
        "def Xe(Kc):\n",
        "    conversion =  (Kc**.5)/(1+(Kc**.5))\n",
        "    return conversion \n",
        "\n",
        "def XEB(T):\n",
        "    XEB = ((CpA+CpB)*(T-T0))/(-Hr)\n",
        "    return XEB "
      ],
      "metadata": {
        "id": "KEAxLapri3rC"
      },
      "execution_count": 22,
      "outputs": []
    },
    {
      "cell_type": "code",
      "source": [
        "T_range = np.arange(300,600.,1)\n",
        "K_C = Kc(T_range)\n",
        "\n",
        "plt.figure()\n",
        "plt.plot(T_range,Xe(K_C),'-b', linewidth=4, label=\"Xe\")\n",
        "plt.plot(T_range,XEB(T_range),'-g', linewidth=4, label=\"XEB\")           #xEB\n",
        "plt.plot([432,431], [0,0.23], 'o--', lw=2) \n",
        "\n",
        "plt.plot(T_range,XEB(T_range)+0.23,'-g', linewidth=4, label=\"XEB2\")     #Second PBR's XEB (XEB2)\n",
        "plt.plot([408,410], [0,0.41], 'o--', lw=2)\n",
        "\n",
        "\n",
        "plt.ylim(0,1)\n",
        "plt.ylabel(r\"$X_e$\")\n",
        "plt.xlabel(\"T [K]\")\n",
        "plt.legend()\n",
        "plt.grid()\n",
        "plt.show()"
      ],
      "metadata": {
        "colab": {
          "base_uri": "https://localhost:8080/",
          "height": 283
        },
        "id": "SmfjfW2mkPP7",
        "outputId": "9cf1662a-7b56-4d80-904c-1436ce7f90e3"
      },
      "execution_count": 41,
      "outputs": [
        {
          "output_type": "display_data",
          "data": {
            "image/png": "[encoded data removed]",
            "text/plain": [
              "<Figure size 432x288 with 1 Axes>"
            ]
          },
          "metadata": {
            "needs_background": "light"
          }
        }
      ]
    }
  ]
}