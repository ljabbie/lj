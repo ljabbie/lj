{
  "nbformat": 4,
  "nbformat_minor": 0,
  "metadata": {
    "colab": {
      "name": "h_w6#3",
      "provenance": [],
      "authorship_tag": "ABX9TyMc2UOO4Y15K8uKwDYXW6sl",
      "include_colab_link": true
    },
    "kernelspec": {
      "name": "python3",
      "display_name": "Python 3"
    },
    "language_info": {
      "name": "python"
    }
  },
  "cells": [
    {
      "cell_type": "markdown",
      "metadata": {
        "id": "view-in-github",
        "colab_type": "text"
      },
      "source": [
        "<a href=\"https://colab.research.google.com/github/ljabbie/lj/blob/main/h_w6_3.ipynb\" target=\"_parent\"><img src=\"https://colab.research.google.com/assets/colab-badge.svg\" alt=\"Open In Colab\"/></a>"
      ]
    },
    {
      "cell_type": "markdown",
      "metadata": {
        "id": "Esfa3z5c1CHv"
      },
      "source": [
        "##3c."
      ]
    },
    {
      "cell_type": "markdown",
      "metadata": {
        "id": "z_HktdOs8nhe"
      },
      "source": [
        "#Using Lineweaver-Burk plots, determine the type of inhibition occurring when the inhibitor I is added to the system."
      ]
    },
    {
      "cell_type": "code",
      "metadata": {
        "id": "68ZtO6g69oHK"
      },
      "source": [
        "import numpy as np         # Import package\n",
        "from scipy.stats import linregress\n",
        "import matplotlib.pyplot as plt"
      ],
      "execution_count": null,
      "outputs": []
    },
    {
      "cell_type": "markdown",
      "metadata": {
        "id": "K76_cm-8XMnU"
      },
      "source": [
        ""
      ]
    },
    {
      "cell_type": "code",
      "metadata": {
        "id": "WSflynsE89Cw"
      },
      "source": [
        "CA =np.array([0.40, 0.52, 0.67, 0.86, 1.11, 1.44, 1.86, 2.40, 3.10, 4.00 ])  # Conc. of substrate A [mmol/L]\n",
        "rA_without_I = np.array([0.00822, 0.01019, 0.01240, 0.01487, 0.01767, 0.02074, 0.02390, 0.02708, 0.03020, 0.03316] ) #r w/o I [mmol/Lmin]\n",
        "rA_with_I = np.array([.002988, .00380,.00481, .00601, .00749, .00930, .01140,.01380, .01649, .01941])  #r w/ I [mmol/Lmin]\n"
      ],
      "execution_count": null,
      "outputs": []
    },
    {
      "cell_type": "code",
      "metadata": {
        "colab": {
          "base_uri": "https://localhost:8080/",
          "height": 295
        },
        "id": "nEYSWMyO-XZU",
        "outputId": "82f0f62e-5774-4444-e33f-4bd543b8214a"
      },
      "source": [
        "plt.plot(1/CA, 1/rA_without_I, label='Without_I') # Ploting data w/o I\n",
        "plt.scatter(1/CA, 1/rA_without_I)\n",
        "plt.plot(1/CA, 1/rA_with_I, label='With_I')  #Plotting data w/ I\n",
        "plt.scatter(1/CA, 1/rA_with_I)\n",
        "\n",
        "plt.title('A Plot Showing Both Sets of Data')\n",
        "plt.xlabel(\"1/CA [1/(mmol/L)]\")\n",
        "plt.ylabel(\"-1/rA [1/(nmol/Lmina)]\")\n",
        "plt.legend()\n",
        "plt.grid()\n",
        "plt.show()\n"
      ],
      "execution_count": null,
      "outputs": [
        {
          "output_type": "display_data",
          "data": {
            "image/png": "[encoded data removed]",
            "text/plain": [
              "<Figure size 432x288 with 1 Axes>"
            ]
          },
          "metadata": {
            "needs_background": "light"
          }
        }
      ]
    },
    {
      "cell_type": "code",
      "metadata": {
        "colab": {
          "base_uri": "https://localhost:8080/"
        },
        "id": "EVpcW6gCGYE8",
        "outputId": "eda8b21f-adc0-4401-8175-0a5f971f84a4"
      },
      "source": [
        "slope, intercept, r_value, p_value, std_err = linregress(1/CA, 1/rA_without_I) \n",
        "print(slope)       #Slope w/o I [min]\n",
        "print(intercept)   #intercept w/o I [1/(mmol/Lmin)]"
      ],
      "execution_count": null,
      "outputs": [
        {
          "output_type": "stream",
          "name": "stdout",
          "text": [
            "40.653866254273794\n",
            "19.983658361322497\n"
          ]
        }
      ]
    },
    {
      "cell_type": "code",
      "metadata": {
        "colab": {
          "base_uri": "https://localhost:8080/"
        },
        "id": "El7sgG4fGsOL",
        "outputId": "ff7b9ce0-2719-43d1-c72a-6e06e8094128"
      },
      "source": [
        "slope, intercept, r_value, p_value, std_err = linregress(1/CA, 1/rA_with_I) \n",
        "print(slope)       #Slope w/ I [min]\n",
        "print(intercept)   #intercept w/ I [1/(mmol/Lmin)]"
      ],
      "execution_count": null,
      "outputs": [
        {
          "output_type": "stream",
          "name": "stdout",
          "text": [
            "126.0396764909113\n",
            "19.9819063369535\n"
          ]
        }
      ]
    }
  ]
}