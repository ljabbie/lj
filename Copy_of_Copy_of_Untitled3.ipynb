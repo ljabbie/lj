{
  "nbformat": 4,
  "nbformat_minor": 0,
  "metadata": {
    "colab": {
      "name": "Copy of Copy of Untitled3.ipynb",
      "provenance": [],
      "authorship_tag": "ABX9TyNj8LmWBXLdIJm+0c9IE822",
      "include_colab_link": true
    },
    "kernelspec": {
      "name": "python3",
      "display_name": "Python 3"
    },
    "language_info": {
      "name": "python"
    }
  },
  "cells": [
    {
      "cell_type": "markdown",
      "metadata": {
        "id": "view-in-github",
        "colab_type": "text"
      },
      "source": [
        "<a href=\"https://colab.research.google.com/github/ljabbie/lj/blob/main/Copy_of_Copy_of_Untitled3.ipynb\" target=\"_parent\"><img src=\"https://colab.research.google.com/assets/colab-badge.svg\" alt=\"Open In Colab\"/></a>"
      ]
    },
    {
      "cell_type": "markdown",
      "metadata": {
        "id": "DJI0TL7ZXELF"
      },
      "source": [
        "##2 \n",
        "**A.**"
      ]
    },
    {
      "cell_type": "code",
      "metadata": {
        "id": "3XbQCbhIW38F"
      },
      "source": [
        "import numpy as np         # Import package\n",
        "import matplotlib.pyplot as plt"
      ],
      "execution_count": 1,
      "outputs": []
    },
    {
      "cell_type": "code",
      "metadata": {
        "colab": {
          "base_uri": "https://localhost:8080/"
        },
        "id": "E-OwxwIqHIBe",
        "outputId": "b0f8e0d0-557d-4648-e7cc-3564b945c7cc"
      },
      "source": [
        "Time = [0, 1, 2, 3, 4, 5, 6, 7, 8, 9, 10]   #Data given\n",
        "C_A_Case_1 = np.array([1.243, 0.706, 0.493, 0.379, 0.307, 0.259, 0.223, 0.197, 0.175, 0.158, 0.144])  #Zero order assumption\n",
        "C_A_Case_2 = np.log(C_A_Case_1)  #1st order assumption\n",
        "C_A_Case_3 = 1/C_A_Case_1   #2nd order assumption\n",
        "\n",
        "print(C_A_Case_3)"
      ],
      "execution_count": 2,
      "outputs": [
        {
          "output_type": "stream",
          "name": "stdout",
          "text": [
            "[0.80450523 1.41643059 2.02839757 2.63852243 3.25732899 3.86100386\n",
            " 4.48430493 5.07614213 5.71428571 6.32911392 6.94444444]\n"
          ]
        }
      ]
    },
    {
      "cell_type": "code",
      "metadata": {
        "colab": {
          "base_uri": "https://localhost:8080/",
          "height": 295
        },
        "id": "M-r6YrL_0DAL",
        "outputId": "626d331f-8c18-4d83-d6bf-adffdb81c6cd"
      },
      "source": [
        "plt.plot(Time, C_A_Case_3, label = \"data\")\n",
        "plt.title(\"Second Order Reaction\")\n",
        "plt.xlabel(\"Time [min]\")\n",
        "plt.ylabel(\"1/C_A [L/mol]\")\n",
        "plt.legend()\n",
        "plt.show()"
      ],
      "execution_count": 3,
      "outputs": [
        {
          "output_type": "display_data",
          "data": {
            "image/png": "[encoded data removed]",
            "text/plain": [
              "<Figure size 432x288 with 1 Axes>"
            ]
          },
          "metadata": {
            "needs_background": "light"
          }
        }
      ]
    },
    {
      "cell_type": "markdown",
      "metadata": {
        "id": "QmiRrm7NR5Rs"
      },
      "source": [
        "As indicated by the straight line above, the reaction is **2nd order**"
      ]
    },
    {
      "cell_type": "markdown",
      "metadata": {
        "id": "f2aoy_pgldkM"
      },
      "source": [
        "**B.**"
      ]
    },
    {
      "cell_type": "code",
      "metadata": {
        "colab": {
          "base_uri": "https://localhost:8080/"
        },
        "id": "X_cCphcGje-q",
        "outputId": "be637133-c752-48de-a5dd-ced0c90d3553"
      },
      "source": [
        "from scipy.stats import linregress  # importing a package to get the slope\n",
        "slope, intercept, r_value, p_value, std_err = linregress(Time,C_A_Case_3)  \n",
        "print(slope)     # k=slope of the line [L/mol*min]"
      ],
      "execution_count": null,
      "outputs": [
        {
          "output_type": "stream",
          "name": "stdout",
          "text": [
            "0.6137300835370484\n"
          ]
        }
      ]
    },
    {
      "cell_type": "markdown",
      "metadata": {
        "id": "5FyFSvJQPZJM"
      },
      "source": [
        "##3.\n",
        "**A** Finding the total order of the reaction (R + Cat => P).\n"
      ]
    },
    {
      "cell_type": "code",
      "metadata": {
        "colab": {
          "base_uri": "https://localhost:8080/"
        },
        "id": "KKHfYL3mPzKU",
        "outputId": "7f137e82-ca78-47e7-e27f-98c4396c25a5"
      },
      "source": [
        "c_exp = np.loadtxt('/content/drive/MyDrive/concentration_data.txt')    # Concentration [mol/L]\n",
        "t_exp = np.loadtxt('/content/drive/MyDrive/time_data.txt')             # Time [min]\n",
        "\n",
        "print(c_exp)\n",
        "print(t_exp)\n"
      ],
      "execution_count": 7,
      "outputs": [
        {
          "output_type": "stream",
          "name": "stdout",
          "text": [
            "[3.1418955  2.6538994  2.39727441 2.2296945  2.11136191 2.01617467\n",
            " 1.94231633 1.87460947 1.82204418 1.7777673  1.73488715 1.69682681\n",
            " 1.66498286 1.63195392 1.60567203 1.5791942  1.55554211 1.53449043\n",
            " 1.51381945 1.49425868 1.47588617 1.45982798]\n",
            "[ 0.   0.5  1.   1.5  2.   2.5  3.   3.5  4.   4.5  5.   5.5  6.   6.5\n",
            "  7.   7.5  8.   8.5  9.   9.5 10.  10.5]\n"
          ]
        }
      ]
    },
    {
      "cell_type": "code",
      "metadata": {
        "colab": {
          "base_uri": "https://localhost:8080/"
        },
        "id": "qZjNd6bDQfkk",
        "outputId": "8b3a05e1-acfa-4ea2-99d7-aaf6de021391"
      },
      "source": [
        "from google.colab import drive\n",
        "drive.mount('/content/drive')"
      ],
      "execution_count": 5,
      "outputs": [
        {
          "output_type": "stream",
          "name": "stdout",
          "text": [
            "Mounted at /content/drive\n"
          ]
        }
      ]
    },
    {
      "cell_type": "code",
      "metadata": {
        "colab": {
          "base_uri": "https://localhost:8080/"
        },
        "id": "mZMqp5AOXgkI",
        "outputId": "c2730232-3b99-48e9-99a0-558f3e054e30"
      },
      "source": [
        "c_diff = np.diff(c_exp)\n",
        "t_diff = np.diff(t_exp)\n",
        "delta_c_delta_t = np.array(c_diff/t_diff)\n",
        "\n",
        "print(c_diff)\n",
        "print(t_diff)\n",
        "print(delta_c_delta_t)"
      ],
      "execution_count": 8,
      "outputs": [
        {
          "output_type": "stream",
          "name": "stdout",
          "text": [
            "[-0.4879961  -0.25662499 -0.16757991 -0.11833259 -0.09518724 -0.07385834\n",
            " -0.06770686 -0.05256529 -0.04427688 -0.04288015 -0.03806034 -0.03184395\n",
            " -0.03302894 -0.02628189 -0.02647783 -0.02365209 -0.02105168 -0.02067098\n",
            " -0.01956077 -0.01837251 -0.01605819]\n",
            "[0.5 0.5 0.5 0.5 0.5 0.5 0.5 0.5 0.5 0.5 0.5 0.5 0.5 0.5 0.5 0.5 0.5 0.5\n",
            " 0.5 0.5 0.5]\n",
            "[-0.9759922  -0.51324998 -0.33515982 -0.23666518 -0.19037448 -0.14771668\n",
            " -0.13541372 -0.10513058 -0.08855376 -0.0857603  -0.07612068 -0.0636879\n",
            " -0.06605788 -0.05256378 -0.05295566 -0.04730418 -0.04210336 -0.04134196\n",
            " -0.03912154 -0.03674502 -0.03211638]\n"
          ]
        }
      ]
    },
    {
      "cell_type": "code",
      "metadata": {
        "colab": {
          "base_uri": "https://localhost:8080/"
        },
        "id": "YhM0dYbebrVO",
        "outputId": "fb560232-295b-4e74-9418-2e50ee7d122f"
      },
      "source": [
        "nat_log_c = np.log(c_exp [:-1])\n",
        "nat_log_diff = np.log(-delta_c_delta_t)\n",
        "print(nat_log_c)\n",
        "print(nat_log_diff)"
      ],
      "execution_count": 9,
      "outputs": [
        {
          "output_type": "stream",
          "name": "stdout",
          "text": [
            "[1.14482628 0.97603003 0.87433243 0.80186458 0.74733319 0.70120199\n",
            " 0.66388125 0.62840036 0.59995905 0.57535825 0.55094237 0.52875992\n",
            " 0.50981483 0.48977802 0.47354238 0.45691472 0.44182411 0.42819836\n",
            " 0.41463589 0.40163022 0.3892586 ]\n",
            "[-0.02430068 -0.66699226 -1.09314779 -1.44110888 -1.6587622  -1.91245916\n",
            " -1.99942059 -2.25255208 -2.42414545 -2.45619908 -2.5754353  -2.75376069\n",
            " -2.71722395 -2.94572799 -2.93830032 -3.05115662 -3.16762773 -3.18587731\n",
            " -3.24108207 -3.30375257 -3.4383891 ]\n"
          ]
        }
      ]
    },
    {
      "cell_type": "code",
      "metadata": {
        "colab": {
          "base_uri": "https://localhost:8080/",
          "height": 296
        },
        "id": "CbOgsXHrcWIk",
        "outputId": "60aa854d-6583-4d0d-aff3-ed4502c5e836"
      },
      "source": [
        "plt.plot(nat_log_c, nat_log_diff, label = \"Experimental_data\")        #Plotting the data to get m\n",
        "plt.title(\"Plot of the Experimental data\")\n",
        "plt.xlabel(\"ln(C_A) [ln(mol/L)]\")\n",
        "plt.ylabel(\"ln(-dC_A/dt) [ln(mol/Lmin)]\")\n",
        "plt.legend()\n",
        "plt.show()"
      ],
      "execution_count": 10,
      "outputs": [
        {
          "output_type": "display_data",
          "data": {
            "image/png": "[encoded data removed]",
            "text/plain": [
              "<Figure size 432x288 with 1 Axes>"
            ]
          },
          "metadata": {
            "needs_background": "light"
          }
        }
      ]
    },
    {
      "cell_type": "code",
      "metadata": {
        "colab": {
          "base_uri": "https://localhost:8080/"
        },
        "id": "iGbxV1rZxK72",
        "outputId": "6bae8248-3d41-48f6-9b09-3bbf25c11916"
      },
      "source": [
        "slope, intercept, r_value, p_value, std_err = linregress(nat_log_c, nat_log_diff)  \n",
        "print(slope)     # n=slope"
      ],
      "execution_count": null,
      "outputs": [
        {
          "output_type": "stream",
          "name": "stdout",
          "text": [
            "4.561730298501135\n"
          ]
        }
      ]
    }
  ]
}