{
  "nbformat": 4,
  "nbformat_minor": 0,
  "metadata": {
    "colab": {
      "name": "Prob2a.ipynb",
      "provenance": [],
      "authorship_tag": "ABX9TyPZO0ftlVy+FMrF58zpjoAO",
      "include_colab_link": true
    },
    "kernelspec": {
      "name": "python3",
      "display_name": "Python 3"
    },
    "language_info": {
      "name": "python"
    }
  },
  "cells": [
    {
      "cell_type": "markdown",
      "metadata": {
        "id": "view-in-github",
        "colab_type": "text"
      },
      "source": [
        "<a href=\"https://colab.research.google.com/github/ljabbie/lj/blob/main/Prob2a.ipynb\" target=\"_parent\"><img src=\"https://colab.research.google.com/assets/colab-badge.svg\" alt=\"Open In Colab\"/></a>"
      ]
    },
    {
      "cell_type": "markdown",
      "metadata": {
        "id": "W7pJ-SlnzxXl"
      },
      "source": [
        "#2a."
      ]
    },
    {
      "cell_type": "markdown",
      "metadata": {
        "id": "sNu6iAioJciQ"
      },
      "source": [
        "##CSRT-CSTR"
      ]
    },
    {
      "cell_type": "markdown",
      "metadata": {
        "id": "lcxEQmBKNmM4"
      },
      "source": [
        "Determining the conversion at the exit of the 2nd CSTR."
      ]
    },
    {
      "cell_type": "code",
      "metadata": {
        "id": "DNW0CfivjgA0"
      },
      "source": [
        "import matplotlib\n",
        "from matplotlib import pyplot as plt\n",
        "import numpy as np\n",
        "from scipy.interpolate import interp1d"
      ],
      "execution_count": null,
      "outputs": []
    },
    {
      "cell_type": "code",
      "metadata": {
        "id": "U6kKak9KnWym"
      },
      "source": [
        "X = [0, 0.1, 0.2, 0.4, 0.6, 0.8]  #Conversions\n",
        "Y = [0.670, 0.720, 0.900, 1.98, 5.06, 8.11]  #FA0/-r(A) [m^3]"
      ],
      "execution_count": null,
      "outputs": []
    },
    {
      "cell_type": "markdown",
      "metadata": {
        "id": "TUpR7lKv451b"
      },
      "source": [
        "Plotting data"
      ]
    },
    {
      "cell_type": "code",
      "metadata": {
        "colab": {
          "base_uri": "https://localhost:8080/",
          "height": 282
        },
        "id": "TEOBptxh4hu-",
        "outputId": "1eed1300-d0d4-43fe-92c7-db7e4847357a"
      },
      "source": [
        "plt.plot(X,Y,'o')"
      ],
      "execution_count": null,
      "outputs": [
        {
          "output_type": "execute_result",
          "data": {
            "text/plain": [
              "[<matplotlib.lines.Line2D at 0x7fe1e98499d0>]"
            ]
          },
          "metadata": {},
          "execution_count": 3
        },
        {
          "output_type": "display_data",
          "data": {
            "image/png": "[encoded data removed]",
            "text/plain": [
              "<Figure size 432x288 with 1 Axes>"
            ]
          },
          "metadata": {
            "needs_background": "light"
          }
        }
      ]
    },
    {
      "cell_type": "code",
      "metadata": {
        "colab": {
          "base_uri": "https://localhost:8080/"
        },
        "id": "RQC-kXCv717_",
        "outputId": "6ce28283-6089-4e1c-ee63-ad2e8159bd6f"
      },
      "source": [
        "X1 = 0.2 # Conversion at the exit of CSTR1\n",
        "VTOT = 0.5  # Total volume [L]\n",
        "V1 = X1*.900  # Volume of CSRT1 [L]\n",
        "V2 = VTOT - V1  # Volume of CSRT2 [L]\n",
        "print(V1)\n",
        "print(V2)"
      ],
      "execution_count": null,
      "outputs": [
        {
          "output_type": "stream",
          "name": "stdout",
          "text": [
            "0.18000000000000002\n",
            "0.31999999999999995\n"
          ]
        }
      ]
    },
    {
      "cell_type": "code",
      "metadata": {
        "id": "DHsMC8529QsJ"
      },
      "source": [
        "f = interp1d(X, Y, 'slinear')  #Interpolating the data"
      ],
      "execution_count": null,
      "outputs": []
    },
    {
      "cell_type": "code",
      "metadata": {
        "colab": {
          "base_uri": "https://localhost:8080/",
          "height": 282
        },
        "id": "yqeBhnOB9i5B",
        "outputId": "86318973-d047-4f17-e252-a842d8a3cd71"
      },
      "source": [
        "list_of_X = np.linspace(0, 0.8, 100)\n",
        "list_of_Y = f(list_of_X)\n",
        "\n",
        "plt.plot(list_of_X, list_of_Y, '-o')\n"
      ],
      "execution_count": null,
      "outputs": [
        {
          "output_type": "execute_result",
          "data": {
            "text/plain": [
              "[<matplotlib.lines.Line2D at 0x7fe1e92c4f50>]"
            ]
          },
          "metadata": {},
          "execution_count": 6
        },
        {
          "output_type": "display_data",
          "data": {
            "image/png": "[encoded data removed]",
            "text/plain": [
              "<Figure size 432x288 with 1 Axes>"
            ]
          },
          "metadata": {
            "needs_background": "light"
          }
        }
      ]
    },
    {
      "cell_type": "code",
      "metadata": {
        "id": "ZS7-rCak-BJb"
      },
      "source": [
        "def find_X2(f, V2, X1, V1):\n",
        "    x = np.linspace(X1, 0.8, 1000)\n",
        "    xout = 0.0\n",
        "    for xtmp in x: \n",
        "        V_tmp = (f(xtmp) - V1)*(xtmp-X1)  # Computing volume for each x\n",
        "        if V_tmp >= V2: # Volume matches\n",
        "            xout = xtmp # Conversion desired\n",
        "            break\n",
        "    return xout"
      ],
      "execution_count": null,
      "outputs": []
    },
    {
      "cell_type": "code",
      "metadata": {
        "colab": {
          "base_uri": "https://localhost:8080/"
        },
        "id": "qZzy2UT3TDdx",
        "outputId": "6ef4cec7-02da-4730-edab-2d0a82b8bb62"
      },
      "source": [
        "X_out_of_CSTR_2 = find_X2(f, V2, X1, V1)\n",
        "X_out_of_CSTR_2"
      ],
      "execution_count": null,
      "outputs": [
        {
          "output_type": "execute_result",
          "data": {
            "text/plain": [
              "0.3861861861861862"
            ]
          },
          "metadata": {},
          "execution_count": 8
        }
      ]
    },
    {
      "cell_type": "markdown",
      "metadata": {
        "id": "_s_uOXJwnn08"
      },
      "source": [
        "##CSTR-PFR"
      ]
    },
    {
      "cell_type": "markdown",
      "metadata": {
        "id": "foBl86dSnuvd"
      },
      "source": [
        "Finding the conversion at PFR exit"
      ]
    },
    {
      "cell_type": "code",
      "metadata": {
        "id": "8t_XPpKAo5-f"
      },
      "source": [
        "v_cstr = 0.18 # [L]\n",
        "v_pfr = 0.32  # [L]\n"
      ],
      "execution_count": null,
      "outputs": []
    },
    {
      "cell_type": "code",
      "metadata": {
        "colab": {
          "base_uri": "https://localhost:8080/"
        },
        "id": "_caq75gqtNW5",
        "outputId": "d8297824-a9e2-4c8a-e033-e62608385204"
      },
      "source": [
        "x_2= [0.2, 0.4] #Conversion to get the lower bound volume for interpolation\n",
        "y_2=[0.900, 1.98] # Correspoing FAO/-rA values [m^3]\n",
        "v1= np.trapz(y_2,x_2, dx = 0.2)  # Volume between x=.2 and x=.4\n",
        "print(v1)\n"
      ],
      "execution_count": null,
      "outputs": [
        {
          "output_type": "stream",
          "name": "stdout",
          "text": [
            "0.288\n"
          ]
        }
      ]
    },
    {
      "cell_type": "code",
      "metadata": {
        "colab": {
          "base_uri": "https://localhost:8080/"
        },
        "id": "kjAnykkTyu-L",
        "outputId": "8ae4e876-c39d-4a42-84c5-7d5c13e30c4d"
      },
      "source": [
        "x_lbv = 0.4  # conversion at lower bound volume\n",
        "y_lbv = 1.98  #corresponding value\n",
        "deltaV= v_pfr-v1 \n",
        "print(deltaV)"
      ],
      "execution_count": null,
      "outputs": [
        {
          "output_type": "stream",
          "name": "stdout",
          "text": [
            "0.03200000000000003\n"
          ]
        }
      ]
    },
    {
      "cell_type": "code",
      "metadata": {
        "id": "gSvg_se2283A"
      },
      "source": [
        "def find_X2(f, v_pfr,x_lbv , y_lbv):\n",
        "    x = np.linspace(X1, 0.8, 1000)\n",
        "    xout = 0.0\n",
        "    for xpfr in x: \n",
        "        V_pfr = 0.5*(f(xpfr) + 1.98)*(xpfr-0.4)  # Computing volume for each x\n",
        "        if V_pfr >= deltaV: # Volume matches\n",
        "            xout = xpfr # Conversion desired\n",
        "            break\n",
        "    return xout"
      ],
      "execution_count": null,
      "outputs": []
    },
    {
      "cell_type": "code",
      "metadata": {
        "colab": {
          "base_uri": "https://localhost:8080/"
        },
        "id": "YO_3OWqx8Xdf",
        "outputId": "7e574d36-1964-46c1-dbed-ca73ad384812"
      },
      "source": [
        "X_out_of_PFR = find_X2(f, v_pfr, x_lbv, y_lbv)\n",
        "X_out_of_PFR"
      ],
      "execution_count": null,
      "outputs": [
        {
          "output_type": "execute_result",
          "data": {
            "text/plain": [
              "0.41561561561561566"
            ]
          },
          "metadata": {},
          "execution_count": 13
        }
      ]
    },
    {
      "cell_type": "markdown",
      "metadata": {
        "id": "BK2wcdmC5243"
      },
      "source": [
        "##PFR-PFR"
      ]
    },
    {
      "cell_type": "markdown",
      "metadata": {
        "id": "Lln0JX2GMb7C"
      },
      "source": [
        "Determining the conversion of the 2nd PFR."
      ]
    },
    {
      "cell_type": "code",
      "metadata": {
        "colab": {
          "base_uri": "https://localhost:8080/"
        },
        "id": "yE275W9p6Aa5",
        "outputId": "634cd29f-f9e6-4c99-9da1-a19ccbe23216"
      },
      "source": [
        "x_3= [0, 0.1, 0.2] #Conversion\n",
        "y_3= [0.670, 0.720, 0.900]\n",
        "V_pfr1= np.trapz(y_3,x_3, dx = 0.1) # [L]\n",
        "print(V_pfr1)"
      ],
      "execution_count": null,
      "outputs": [
        {
          "output_type": "stream",
          "name": "stdout",
          "text": [
            "0.15050000000000002\n"
          ]
        }
      ]
    },
    {
      "cell_type": "code",
      "metadata": {
        "id": "4QLnZnjiHeh0"
      },
      "source": [
        "V_pfr2 = VTOT- V_pfr1 #[L]"
      ],
      "execution_count": null,
      "outputs": []
    },
    {
      "cell_type": "code",
      "metadata": {
        "colab": {
          "base_uri": "https://localhost:8080/"
        },
        "id": "KZRKiy7PK-KY",
        "outputId": "d780b1a2-6fdf-4eeb-a1ab-f3abc3b1a6ba"
      },
      "source": [
        "x_3=x_2\n",
        "y_3=y_2\n",
        "v3=v1\n",
        "deltaV1 = V_pfr2 - v3\n",
        "print(V_pfr2)\n",
        "print(deltaV1)"
      ],
      "execution_count": null,
      "outputs": [
        {
          "output_type": "stream",
          "name": "stdout",
          "text": [
            "0.3495\n",
            "0.0615\n"
          ]
        }
      ]
    },
    {
      "cell_type": "code",
      "metadata": {
        "id": "UZ_-MxouMjvT"
      },
      "source": [
        "def find_X2(f, v_pfr,x_lbv , y_lbv):\n",
        "    x = np.linspace(X1, 0.8, 1000)\n",
        "    xout = 0.0\n",
        "    for xpfr1 in x: \n",
        "        V_pfr = 0.5*(f(xpfr1) + 1.98)*(xpfr1-0.4)  # Computing volume for each x\n",
        "        if V_pfr >= deltaV1: # Volume matches\n",
        "            xout = xpfr1 # Conversion desired\n",
        "            break\n",
        "    return xout"
      ],
      "execution_count": null,
      "outputs": []
    },
    {
      "cell_type": "code",
      "metadata": {
        "colab": {
          "base_uri": "https://localhost:8080/"
        },
        "id": "LkdNmLtUN6LN",
        "outputId": "671921c9-40a8-496c-f537-712af7cd0d8d"
      },
      "source": [
        "X_out_of_PFR1 = find_X2(f, v_pfr, x_lbv, y_lbv)\n",
        "X_out_of_PFR1"
      ],
      "execution_count": null,
      "outputs": [
        {
          "output_type": "execute_result",
          "data": {
            "text/plain": [
              "0.42822822822822826"
            ]
          },
          "metadata": {},
          "execution_count": 18
        }
      ]
    },
    {
      "cell_type": "markdown",
      "metadata": {
        "id": "r9KmuuuZ9IBN"
      },
      "source": [
        "#PFR-CSTR"
      ]
    },
    {
      "cell_type": "code",
      "metadata": {
        "id": "4-9uRY9nsQVO"
      },
      "source": [
        "v_1st =V_pfr1\n",
        "v_2cstr = V_pfr2"
      ],
      "execution_count": null,
      "outputs": []
    },
    {
      "cell_type": "code",
      "metadata": {
        "id": "1g9bIpOLvGPX"
      },
      "source": [
        "def find_X2(f, v_2cstr, X1, v_1st):\n",
        "    x = np.linspace(X1, 0.8, 1000)\n",
        "    xout = 0.0\n",
        "    for xtmp in x: \n",
        "        V_tmp = (f(xtmp) - V1)*(xtmp-X1)  # Computing volume for each x\n",
        "        if V_tmp >= v_2cstr: # Volume matches\n",
        "            xout = xtmp # Conversion desired\n",
        "            break\n",
        "    return xout"
      ],
      "execution_count": null,
      "outputs": []
    },
    {
      "cell_type": "code",
      "metadata": {
        "colab": {
          "base_uri": "https://localhost:8080/"
        },
        "id": "oxMQlHaTvlz5",
        "outputId": "3c3d241e-1861-4665-ffd8-6df215e41d3b"
      },
      "source": [
        "X_out_of_CSTR1 = find_X2(f, v_2cstr, X1, v_1st)\n",
        "X_out_of_CSTR1"
      ],
      "execution_count": null,
      "outputs": [
        {
          "output_type": "execute_result",
          "data": {
            "text/plain": [
              "0.39459459459459467"
            ]
          },
          "metadata": {},
          "execution_count": 23
        }
      ]
    }
  ]
}