{
  "nbformat": 4,
  "nbformat_minor": 0,
  "metadata": {
    "colab": {
      "name": " hw8_2c_done",
      "provenance": [],
      "authorship_tag": "ABX9TyM9xhYXYMISz2XbyR9wfQ8x",
      "include_colab_link": true
    },
    "kernelspec": {
      "name": "python3",
      "display_name": "Python 3"
    },
    "language_info": {
      "name": "python"
    }
  },
  "cells": [
    {
      "cell_type": "markdown",
      "metadata": {
        "id": "view-in-github",
        "colab_type": "text"
      },
      "source": [
        "<a href=\"https://colab.research.google.com/github/ljabbie/lj/blob/main/hw8_2c_done.ipynb\" target=\"_parent\"><img src=\"https://colab.research.google.com/assets/colab-badge.svg\" alt=\"Open In Colab\"/></a>"
      ]
    },
    {
      "cell_type": "code",
      "metadata": {
        "id": "M7XEueHY_LAD"
      },
      "source": [
        "import numpy as np\n",
        "from scipy.integrate import odeint\n",
        "import copy\n",
        "from matplotlib import pyplot as plt\n",
        "plt.rcParams.update({'font.size': 22})"
      ],
      "execution_count": 1,
      "outputs": []
    },
    {
      "cell_type": "markdown",
      "metadata": {
        "id": "wvEg1qpaPk-e"
      },
      "source": [
        "##2C.\n",
        "Effect of changing T on a(z) & X(z) plots?"
      ]
    },
    {
      "cell_type": "code",
      "metadata": {
        "id": "HlDLlcVKRfIJ"
      },
      "source": [
        "def coupled_odes_2(X, Z):\n",
        "\n",
        "  density_cat = 50  # kg-cat/m^3\n",
        "  k_b = 0.003344 # Replacing k_prime with k_b kmol/kg-cat*s*atm^2\n",
        "  PA0 = 12 # atm\n",
        "  CA0 = 0.22 # kmol/m^3\n",
        "  U0 = 2.5 # m/s\n",
        "  \n",
        "  ddZ = np.zeros(1, dtype=float) # initialize an empty array\n",
        "  ddZ = ((density_cat)*(1/(1+12*(((Z/(2.5+(5*X)))**.5))))*k_b*(((PA0*(1-X)/(1+(2*X)))**2)))/(U0*CA0)\n",
        "  \n",
        "  \n",
        "  return ddZ"
      ],
      "execution_count": 2,
      "outputs": []
    },
    {
      "cell_type": "code",
      "metadata": {
        "id": "DBe92OOegltW"
      },
      "source": [
        "Z = np.arange(0.,2.0,.2)\n",
        "\n",
        "XA0 = 0.0  #Initial conversion\n",
        "\n",
        "sol_2 = odeint(coupled_odes_2, XA0, Z)    # solve the ODE\n",
        "a = (1/(1+12*((Z/(2.5+(5*sol_2[:,0])))**.5)))  # solve for a"
      ],
      "execution_count": 3,
      "outputs": []
    },
    {
      "cell_type": "code",
      "metadata": {
        "colab": {
          "base_uri": "https://localhost:8080/"
        },
        "id": "-Gl88xJAGO2b",
        "outputId": "cfc74d20-8a00-416f-bc09-5d13acecfdcd"
      },
      "source": [
        "print(sol_2[:,0])\n",
        "print(a)\n"
      ],
      "execution_count": 4,
      "outputs": [
        {
          "output_type": "stream",
          "name": "stdout",
          "text": [
            "[0.         0.54362477 0.62682431 0.67164587 0.70143695 0.72332625\n",
            " 0.74039939 0.7542579  0.7658336  0.7757134 ]\n",
            "[1.         0.29856957 0.23824224 0.20659554 0.18590266 0.17088035\n",
            " 0.15927508 0.1499298  0.14217712 0.13559977]\n"
          ]
        }
      ]
    },
    {
      "cell_type": "code",
      "metadata": {
        "colab": {
          "base_uri": "https://localhost:8080/",
          "height": 295
        },
        "id": "2Y-Wg4DXO5ZY",
        "outputId": "da635752-8261-417d-d83f-bc2c1cc7fb24"
      },
      "source": [
        "plt.plot(Z, sol_2[:,0], '-', color = \"blue\", linewidth = 3, label= \"X\")\n",
        "plt.plot(Z, a, '-',  color=\"red\", linewidth = 3, label=\"a\")\n",
        "plt.legend(loc='upper center', bbox_to_anchor=(1.3, 1.05))\n",
        "plt.title(\"Plot of X & a as Function of Height (Z)\")\n",
        "plt.xlabel(\"Z [m]\")\n",
        "plt.ylabel(\"X & a [Unitless]\")\n",
        "plt.ylim([0,1])\n",
        "plt.grid()\n",
        "plt.show()"
      ],
      "execution_count": 5,
      "outputs": [
        {
          "output_type": "display_data",
          "data": {
            "image/png": "[encoded data removed]",
            "text/plain": [
              "<Figure size 432x288 with 1 Axes>"
            ]
          },
          "metadata": {
            "needs_background": "light"
          }
        }
      ]
    }
  ]
}