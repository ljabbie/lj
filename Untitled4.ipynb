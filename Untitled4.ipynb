{
  "nbformat": 4,
  "nbformat_minor": 0,
  "metadata": {
    "colab": {
      "name": "Untitled4.ipynb",
      "provenance": [],
      "authorship_tag": "ABX9TyPQwBPShNvz5V735aE+ZeoX",
      "include_colab_link": true
    },
    "kernelspec": {
      "name": "python3",
      "display_name": "Python 3"
    },
    "language_info": {
      "name": "python"
    }
  },
  "cells": [
    {
      "cell_type": "markdown",
      "metadata": {
        "id": "view-in-github",
        "colab_type": "text"
      },
      "source": [
        "<a href=\"https://colab.research.google.com/github/ljabbie/lj/blob/main/Untitled4.ipynb\" target=\"_parent\"><img src=\"https://colab.research.google.com/assets/colab-badge.svg\" alt=\"Open In Colab\"/></a>"
      ]
    },
    {
      "cell_type": "markdown",
      "metadata": {
        "id": "VerIPI4et_ss"
      },
      "source": [
        "#3.\n",
        "A. Find K_A & Ct?\n",
        "\n",
        "Plottng the linearized experimental data"
      ]
    },
    {
      "cell_type": "code",
      "metadata": {
        "id": "iU2GloAwvS_U"
      },
      "source": [
        "import numpy as np         # Import package\n",
        "from scipy.stats import linregress\n",
        "import matplotlib.pyplot as plt"
      ],
      "execution_count": 1,
      "outputs": []
    },
    {
      "cell_type": "code",
      "metadata": {
        "id": "V8GG7KfyvewN"
      },
      "source": [
        "Cp = np.array([0, 1, 2, 3, 4, 5, 6, 7, 8, 9, 10, 11, 12, 13, 14, 15, 16, 17, 18, 19, 20, 21, 22, 23, 24, 25])  # concentration, Cp [mmmol/g]\n",
        "Cp_s= np.array([1, .251, .405, .508, .582, .638, .682, .717, .746, .77, .79, .808, .823, .836, .848, .858, .868, .876, .884, .891, .897, .903, .908, .913, .918, .922] ) # Absorbed Peptite 1 Cp.s[mmol/g]]\n",
        "Cp_Cp_s_ratio = Cp/Cp_s"
      ],
      "execution_count": 2,
      "outputs": []
    },
    {
      "cell_type": "code",
      "metadata": {
        "colab": {
          "base_uri": "https://localhost:8080/"
        },
        "id": "14CPqeVwbxFi",
        "outputId": "ef732312-4955-4c7b-eb6f-823617e74490"
      },
      "source": [
        "print(Cp_Cp_s_ratio )  "
      ],
      "execution_count": 3,
      "outputs": [
        {
          "output_type": "stream",
          "name": "stdout",
          "text": [
            "[ 0.          3.98406375  4.9382716   5.90551181  6.87285223  7.8369906\n",
            "  8.79765396  9.76290098 10.72386059 11.68831169 12.65822785 13.61386139\n",
            " 14.58080194 15.55023923 16.50943396 17.48251748 18.43317972 19.40639269\n",
            " 20.36199095 21.32435466 22.29654404 23.25581395 24.22907489 25.19167579\n",
            " 26.14379085 27.11496746]\n"
          ]
        }
      ]
    },
    {
      "cell_type": "code",
      "metadata": {
        "colab": {
          "base_uri": "https://localhost:8080/",
          "height": 295
        },
        "id": "6xdSp-wLvmhZ",
        "outputId": "54269257-b355-4584-c36b-4e95a60ff7ad"
      },
      "source": [
        "plt.plot(Cp, Cp_Cp_s_ratio, label='Linearized Data') # Ploting Data\n",
        "plt.scatter(Cp, Cp_Cp_s_ratio)\n",
        "\n",
        "plt.title('A Plot of Linearized Experimental Data')\n",
        "plt.xlabel(\"Cp [mmmol/g]\")\n",
        "plt.ylabel(\"Cp/Cp.s [Unitless]\")\n",
        "plt.legend()\n",
        "plt.grid()\n",
        "plt.show()\n"
      ],
      "execution_count": 4,
      "outputs": [
        {
          "output_type": "display_data",
          "data": {
            "image/png": "[encoded data removed]",
            "text/plain": [
              "<Figure size 432x288 with 1 Axes>"
            ]
          },
          "metadata": {
            "needs_background": "light"
          }
        }
      ]
    },
    {
      "cell_type": "code",
      "metadata": {
        "colab": {
          "base_uri": "https://localhost:8080/"
        },
        "id": "VID9FSuRfIVV",
        "outputId": "269ec06c-7ef0-47e6-d037-e35fa35abd93"
      },
      "source": [
        "slope, intercept, r_value, p_value, std_err = linregress(Cp, Cp_Cp_s_ratio)  # spits out multiple values\n",
        "print(slope)  #slope [g/mmol]\n",
        "print(intercept)  #intercept [Unitless]"
      ],
      "execution_count": 5,
      "outputs": [
        {
          "output_type": "stream",
          "name": "stdout",
          "text": [
            "0.9897409622011072\n",
            "2.576825821390603\n"
          ]
        }
      ]
    },
    {
      "cell_type": "code",
      "metadata": {
        "colab": {
          "base_uri": "https://localhost:8080/"
        },
        "id": "aaI6lybeiThv",
        "outputId": "ad38c0b5-a3fd-4b67-f21d-48d21a812a38"
      },
      "source": [
        "Ct = 1/slope # [mmol/g]\n",
        "K_A = 1/(Ct*intercept) # [g/mmol]\n",
        "print(Ct)\n",
        "print(K_A)"
      ],
      "execution_count": 6,
      "outputs": [
        {
          "output_type": "stream",
          "name": "stdout",
          "text": [
            "1.0103653765891203\n",
            "0.384093078385479\n"
          ]
        }
      ]
    }
  ]
}