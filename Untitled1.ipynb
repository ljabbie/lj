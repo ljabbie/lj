{
  "nbformat": 4,
  "nbformat_minor": 0,
  "metadata": {
    "colab": {
      "name": "Untitled1.ipynb",
      "provenance": [],
      "collapsed_sections": [],
      "authorship_tag": "ABX9TyMC08toTgb+LiNvJL/3Y7Og",
      "include_colab_link": true
    },
    "kernelspec": {
      "name": "python3",
      "display_name": "Python 3"
    },
    "language_info": {
      "name": "python"
    }
  },
  "cells": [
    {
      "cell_type": "markdown",
      "metadata": {
        "id": "view-in-github",
        "colab_type": "text"
      },
      "source": [
        "<a href=\"https://colab.research.google.com/github/ljabbie/lj/blob/main/Untitled1.ipynb\" target=\"_parent\"><img src=\"https://colab.research.google.com/assets/colab-badge.svg\" alt=\"Open In Colab\"/></a>"
      ]
    },
    {
      "cell_type": "markdown",
      "metadata": {
        "id": "mfufscGFPGvr"
      },
      "source": [
        "##4a"
      ]
    },
    {
      "cell_type": "markdown",
      "metadata": {
        "id": "tAJQiLdKHeMx"
      },
      "source": [
        "#Jon Creating Levenspiel Plot for the Experimental Data"
      ]
    },
    {
      "cell_type": "markdown",
      "metadata": {
        "id": "vqlStolvrt1Y"
      },
      "source": [
        "_The following code consist of the experimental data obtained from the first trial._"
      ]
    },
    {
      "cell_type": "code",
      "metadata": {
        "id": "63FUaZ2gI8Ti"
      },
      "source": [
        "# Experimental data\n",
        "X = [0.0, 0.2, 0.4, 0.6, 0.8]  #Conversion, X\n",
        "Y = [0.23, 0.45, 0.88, 1.13, 1.63]  #F(B0)/-r(A) [m^3]"
      ],
      "execution_count": null,
      "outputs": []
    },
    {
      "cell_type": "markdown",
      "metadata": {
        "id": "9Au28hJHKlp-"
      },
      "source": [
        "##Ploting"
      ]
    },
    {
      "cell_type": "markdown",
      "metadata": {
        "id": "18I_ND0Fux8n"
      },
      "source": [
        "_For plotting the Levenspiel plot for the data above, I imported a graphing package from matplotlib. Plot the scatter points then plot the curve to provide clarity show the data points._\n",
        "\n",
        "_The formating features are used to provide title, label for the axes and legend so it is easily understood by the reader._ "
      ]
    },
    {
      "cell_type": "code",
      "metadata": {
        "colab": {
          "base_uri": "https://localhost:8080/",
          "height": 317
        },
        "id": "FY-0SUwOLN15",
        "outputId": "c29eee81-720f-49b6-c5c6-5883dc876f83"
      },
      "source": [
        "import matplotlib.pyplot as plt  \n",
        "plt.scatter(X,Y, color='black')\n",
        "plt.plot(X,Y, color='black', label='Experimental_data')\n",
        "    \n",
        "#Formating\n",
        "plt.title(\"Levenspiel Plot\", fontsize=20)  # You can change fontsize\n",
        "plt.ylabel(\"F(B0)/-r(A) [m^3]\")\n",
        "plt.xlabel(\"Conversion, X\")\n",
        "plt.legend()"
      ],
      "execution_count": null,
      "outputs": [
        {
          "output_type": "execute_result",
          "data": {
            "text/plain": [
              "<matplotlib.legend.Legend at 0x7ff38311f290>"
            ]
          },
          "metadata": {},
          "execution_count": 30
        },
        {
          "output_type": "display_data",
          "data": {
            "image/png": "[encoded data removed]",
            "text/plain": [
              "<Figure size 432x288 with 1 Axes>"
            ]
          },
          "metadata": {
            "needs_background": "light"
          }
        }
      ]
    },
    {
      "cell_type": "markdown",
      "metadata": {
        "id": "fgarON_eRsBF"
      },
      "source": [
        "##4b. Computing Volume Using CSTR & PFR"
      ]
    },
    {
      "cell_type": "markdown",
      "metadata": {
        "id": "DiiXRFz1ypHq"
      },
      "source": [
        "_Given a desired conversion, I defined it and it's corresponding F(B0)/-r(A) as X_b and Y_b resp. then use the volume equation for CSTR to determine the volume._"
      ]
    },
    {
      "cell_type": "code",
      "metadata": {
        "colab": {
          "base_uri": "https://localhost:8080/"
        },
        "id": "lgpGO6iWU0dh",
        "outputId": "ea789d35-705d-4baa-e539-9a9aa0d33f77"
      },
      "source": [
        "#CSTR\n",
        "\n",
        "X_b = 0.6  #Desired conversion \n",
        "Y_b = 1.13  #Corresponding F(B0)/-r(A)[m^3] value\n",
        "V = X_b*Y_b  #Volume for a CSTR\n",
        "print(V)"
      ],
      "execution_count": null,
      "outputs": [
        {
          "output_type": "stream",
          "name": "stdout",
          "text": [
            "0.6779999999999999\n"
          ]
        }
      ]
    },
    {
      "cell_type": "markdown",
      "metadata": {
        "id": "ijl2bFNt1XGy"
      },
      "source": [
        "_Since the rate in the volume equation for PFR is dependent on volume, the equation has to be intergrated. I excluded the last data point and redefined the expeerimental data. I imported numpy package and used the trapezoid fuction funtion to obtain a numerical value for the integral._"
      ]
    },
    {
      "cell_type": "code",
      "metadata": {
        "colab": {
          "base_uri": "https://localhost:8080/"
        },
        "id": "v0CCy_G7fROz",
        "outputId": "e607dfff-56d2-4463-d8d4-9ccca96ec812"
      },
      "source": [
        "#PFR\n",
        "\n",
        "X_1 = [0.0, 0.2, 0.4, 0.6]  #Conversion\n",
        "Y_1 = [0.23, 0.45, 0.88, 1.13] \n",
        "import numpy as np\n",
        "output = np.trapz(Y_1, X_1, dx = 0.2)\n",
        "print(output)\n"
      ],
      "execution_count": null,
      "outputs": [
        {
          "output_type": "stream",
          "name": "stdout",
          "text": [
            "0.4019999999999999\n"
          ]
        }
      ]
    },
    {
      "cell_type": "markdown",
      "metadata": {
        "id": "aAq7x7xblUIJ"
      },
      "source": [
        "##4c"
      ]
    },
    {
      "cell_type": "markdown",
      "metadata": {
        "id": "KSU_0dd-lbMw"
      },
      "source": [
        "Based on the graph in 4a, Tan would have to purchase CSTR to maximize conversion. Becuase the goal to achieve maximum conversion is to minimize the volume as much of possible. Although the Levenspiel plot shows that PFR has smaller volume compared to CSTR, nail polish is in liquid phase so it would be much better to use two CSTRs in series."
      ]
    }
  ]
}